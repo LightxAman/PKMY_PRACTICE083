{
  "nbformat": 4,
  "nbformat_minor": 0,
  "metadata": {
    "colab": {
      "provenance": [],
      "authorship_tag": "ABX9TyPiaschXfLPjEma/S/MoOYC",
      "include_colab_link": true
    },
    "kernelspec": {
      "name": "python3",
      "display_name": "Python 3"
    },
    "language_info": {
      "name": "python"
    }
  },
  "cells": [
    {
      "cell_type": "markdown",
      "metadata": {
        "id": "view-in-github",
        "colab_type": "text"
      },
      "source": [
        "<a href=\"https://colab.research.google.com/github/LightxAman/PKMY_PRACTICE083/blob/main/Sorting.ipynb\" target=\"_parent\"><img src=\"https://colab.research.google.com/assets/colab-badge.svg\" alt=\"Open In Colab\"/></a>"
      ]
    },
    {
      "cell_type": "code",
      "execution_count": null,
      "metadata": {
        "colab": {
          "base_uri": "https://localhost:8080/"
        },
        "id": "9df0uxlY2PxK",
        "outputId": "1be0d662-0110-4a33-dece-e73a86c089b3"
      },
      "outputs": [
        {
          "output_type": "stream",
          "name": "stdout",
          "text": [
            "[2, 6, 11, 19, 27, 31, 45, 121]\n"
          ]
        }
      ],
      "source": [
        "#Bubble Sort\n",
        "\n",
        "def bubblesort(list):\n",
        "\n",
        "# Swap the elements to arrange in order\n",
        "\n",
        "   for iter_num in range(len(list)-1,0,-1):\n",
        "      for idx in range(iter_num):\n",
        "         if list[idx]>list[idx+1]:\n",
        "            temp = list[idx]\n",
        "            list[idx] = list[idx+1]\n",
        "            list[idx+1] = temp\n",
        "list = [19,2,31,45,6,11,121,27]\n",
        "bubblesort(list)\n",
        "print(list)\n"
      ]
    },
    {
      "cell_type": "code",
      "source": [
        "#Merge Sort\n",
        "\n",
        "def merge_sort(unsorted_list):\n",
        "   if len(unsorted_list) <= 1:\n",
        "      return unsorted_list\n",
        "# Find the middle point and devide it\n",
        "   middle = len(unsorted_list) // 2\n",
        "   left_list = unsorted_list[:middle]\n",
        "   right_list = unsorted_list[middle:]\n",
        "\n",
        "   left_list = merge_sort(left_list)\n",
        "   right_list = merge_sort(right_list)\n",
        "   temp = merge(left_list, right_list)\n",
        "   #return list(merge(left_list, right_list))\n",
        "   return temp\n",
        "\n",
        "# Merge the sorted halves\n",
        "def merge(left_half,right_half):\n",
        "   res = []\n",
        "   while len(left_half) != 0 and len(right_half) != 0:\n",
        "      if left_half[0] < right_half[0]:\n",
        "         res.append(left_half[0])\n",
        "         left_half.remove(left_half[0])\n",
        "      else:\n",
        "         res.append(right_half[0])\n",
        "         right_half.remove(right_half[0])\n",
        "   if len(left_half) == 0:\n",
        "      res = res + right_half\n",
        "   else:\n",
        "      res = res + left_half\n",
        "   return res\n",
        "unsorted_list = [64, 34, 25, 12, 22, 11, 90]\n",
        "print(merge_sort(unsorted_list))"
      ],
      "metadata": {
        "colab": {
          "base_uri": "https://localhost:8080/"
        },
        "id": "feK5PScF3ofK",
        "outputId": "e2265869-8c6a-4771-ccea-c6613ef30732"
      },
      "execution_count": null,
      "outputs": [
        {
          "output_type": "stream",
          "name": "stdout",
          "text": [
            "[11, 12, 22, 25, 34, 64, 90]\n"
          ]
        }
      ]
    },
    {
      "cell_type": "code",
      "source": [
        "#insertion sort\n",
        "\n",
        "def insertion_sort(InputList):\n",
        "   for i in range(1, len(InputList)):\n",
        "      j = i-1\n",
        "      nxt_element = InputList[i]\n",
        "# Compare the current element with next one\n",
        "   while (InputList[j] > nxt_element) and (j >= 0):\n",
        "      InputList[j+1] = InputList[j]\n",
        "      j=j-1\n",
        "   InputList[j+1] = nxt_element\n",
        "list = [19,2,31,45,30,11,121,27]\n",
        "insertion_sort(list)\n",
        "print(list)"
      ],
      "metadata": {
        "id": "0ic7Uk_8DoN5",
        "outputId": "e2b8a3e2-0304-4ff5-9d15-9ba785454180",
        "colab": {
          "base_uri": "https://localhost:8080/"
        }
      },
      "execution_count": null,
      "outputs": [
        {
          "output_type": "stream",
          "name": "stdout",
          "text": [
            "[19, 2, 31, 45, 30, 11, 27, 121]\n"
          ]
        }
      ]
    },
    {
      "cell_type": "code",
      "source": [],
      "metadata": {
        "id": "lydEKnOnhzYY"
      },
      "execution_count": null,
      "outputs": []
    }
  ]
}