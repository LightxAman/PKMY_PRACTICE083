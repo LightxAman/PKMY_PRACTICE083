{
  "nbformat": 4,
  "nbformat_minor": 0,
  "metadata": {
    "colab": {
      "provenance": [],
      "authorship_tag": "ABX9TyNcRB99RNGWcJUNfS8VJm7O",
      "include_colab_link": true
    },
    "kernelspec": {
      "name": "python3",
      "display_name": "Python 3"
    },
    "language_info": {
      "name": "python"
    }
  },
  "cells": [
    {
      "cell_type": "markdown",
      "metadata": {
        "id": "view-in-github",
        "colab_type": "text"
      },
      "source": [
        "<a href=\"https://colab.research.google.com/github/LightxAman/PKMY_PRACTICE083/blob/main/String.ipynb\" target=\"_parent\"><img src=\"https://colab.research.google.com/assets/colab-badge.svg\" alt=\"Open In Colab\"/></a>"
      ]
    },
    {
      "cell_type": "markdown",
      "source": [
        "STRINGS\n"
      ],
      "metadata": {
        "id": "XqMaiNjAnDne"
      }
    },
    {
      "cell_type": "code",
      "execution_count": null,
      "metadata": {
        "colab": {
          "base_uri": "https://localhost:8080/"
        },
        "id": "kOTeLx0u-85m",
        "outputId": "8bc8fde7-a065-4ab0-d9c3-db3df7b9da0d"
      },
      "outputs": [
        {
          "output_type": "stream",
          "name": "stdout",
          "text": [
            "Aman\n",
            "I love coding.\n"
          ]
        }
      ],
      "source": [
        "#1\n",
        "# create string type variables\n",
        "\n",
        "name = \"Aman\"\n",
        "print(name)\n",
        "\n",
        "message = \"I love coding.\"\n",
        "print(message)"
      ]
    },
    {
      "cell_type": "code",
      "source": [
        "# TO see positioning of characters in string\n",
        "\n",
        "greet = 'Hello'\n",
        "\n",
        "# access character from 1st index to 3rd index\n",
        "print(greet[1:4])"
      ],
      "metadata": {
        "colab": {
          "base_uri": "https://localhost:8080/"
        },
        "id": "7jdxYJk9_fPF",
        "outputId": "776cc970-9988-4ebb-cd72-bd5e7f15de74"
      },
      "execution_count": null,
      "outputs": [
        {
          "output_type": "stream",
          "name": "stdout",
          "text": [
            "ell\n"
          ]
        }
      ]
    },
    {
      "cell_type": "code",
      "source": [
        "#Strings are imutable i.e,  Once a string is created it cannot be changed\n",
        "\n",
        "message = 'HELLO AMAN'\n",
        "message[0] = 'H'\n",
        "print(message)"
      ],
      "metadata": {
        "colab": {
          "base_uri": "https://localhost:8080/",
          "height": 217
        },
        "id": "RjQgjzzSAK73",
        "outputId": "73b3d3ad-c3ae-4cdd-ea63-85dde79577a2"
      },
      "execution_count": null,
      "outputs": [
        {
          "output_type": "error",
          "ename": "TypeError",
          "evalue": "ignored",
          "traceback": [
            "\u001b[0;31m---------------------------------------------------------------------------\u001b[0m",
            "\u001b[0;31mTypeError\u001b[0m                                 Traceback (most recent call last)",
            "\u001b[0;32m<ipython-input-6-4f34e9a9ed8a>\u001b[0m in \u001b[0;36m<cell line: 4>\u001b[0;34m()\u001b[0m\n\u001b[1;32m      2\u001b[0m \u001b[0;34m\u001b[0m\u001b[0m\n\u001b[1;32m      3\u001b[0m \u001b[0mmessage\u001b[0m \u001b[0;34m=\u001b[0m \u001b[0;34m'Hola Amigos'\u001b[0m\u001b[0;34m\u001b[0m\u001b[0;34m\u001b[0m\u001b[0m\n\u001b[0;32m----> 4\u001b[0;31m \u001b[0mmessage\u001b[0m\u001b[0;34m[\u001b[0m\u001b[0;36m0\u001b[0m\u001b[0;34m]\u001b[0m \u001b[0;34m=\u001b[0m \u001b[0;34m'H'\u001b[0m\u001b[0;34m\u001b[0m\u001b[0;34m\u001b[0m\u001b[0m\n\u001b[0m\u001b[1;32m      5\u001b[0m \u001b[0mprint\u001b[0m\u001b[0;34m(\u001b[0m\u001b[0mmessage\u001b[0m\u001b[0;34m)\u001b[0m\u001b[0;34m\u001b[0m\u001b[0;34m\u001b[0m\u001b[0m\n",
            "\u001b[0;31mTypeError\u001b[0m: 'str' object does not support item assignment"
          ]
        }
      ]
    },
    {
      "cell_type": "code",
      "source": [
        "#Strings can be reassigned\n",
        "\n",
        "message = 'HELLO AMAN'\n",
        "\n",
        "# assign new string to message variable\n",
        "message = 'Hello MANDEEP'\n",
        "\n",
        "print(message)"
      ],
      "metadata": {
        "colab": {
          "base_uri": "https://localhost:8080/"
        },
        "id": "F3gCb_VoA_Ae",
        "outputId": "79803a45-61cf-456d-869f-c7231f3f07fe"
      },
      "execution_count": null,
      "outputs": [
        {
          "output_type": "stream",
          "name": "stdout",
          "text": [
            "Hello MANDEEP\n"
          ]
        }
      ]
    },
    {
      "cell_type": "code",
      "source": [
        "# Multiline string\n",
        "\n",
        "message = \"\"\"\n",
        "Never gonna give you up\n",
        "Never gonna let you down\n",
        "\"\"\"\n",
        "\n",
        "print(message)"
      ],
      "metadata": {
        "colab": {
          "base_uri": "https://localhost:8080/"
        },
        "id": "-2Y11s_TBU55",
        "outputId": "e9657cdc-bb08-4212-f426-ccd568e6e674"
      },
      "execution_count": null,
      "outputs": [
        {
          "output_type": "stream",
          "name": "stdout",
          "text": [
            "\n",
            "Never gonna give you up\n",
            "Never gonna let you down\n",
            "\n"
          ]
        }
      ]
    },
    {
      "cell_type": "code",
      "source": [
        "#comparing two Strings\n",
        "\n",
        "str1 = \"Hello, Aman!\"\n",
        "str2 = \"I love Mandeep.\"\n",
        "str3 = \"Hello, Amritanshu!\"\n",
        "\n",
        "# compare str1 and str2\n",
        "print(str1 == str2)\n",
        "\n",
        "# compare str1 and str3\n",
        "print(str1 == str3)"
      ],
      "metadata": {
        "colab": {
          "base_uri": "https://localhost:8080/"
        },
        "id": "TiNFjVRVBgp1",
        "outputId": "94f216cf-8086-4df1-fee6-235cb736cd7d"
      },
      "execution_count": null,
      "outputs": [
        {
          "output_type": "stream",
          "name": "stdout",
          "text": [
            "False\n",
            "False\n"
          ]
        }
      ]
    },
    {
      "cell_type": "code",
      "source": [
        "#  concatenation of strings\n",
        "\n",
        "greet = \"Hello, \"\n",
        "name = \"Manu\"\n",
        "\n",
        "# using + operator to concatenate\n",
        "\n",
        "result = greet + name\n",
        "print(result)\n"
      ],
      "metadata": {
        "colab": {
          "base_uri": "https://localhost:8080/"
        },
        "id": "PL4NBvrMBwgU",
        "outputId": "e07dfa39-4b94-496d-fad4-d7cd810a17fc"
      },
      "execution_count": null,
      "outputs": [
        {
          "output_type": "stream",
          "name": "stdout",
          "text": [
            "Hello, Manu\n"
          ]
        }
      ]
    },
    {
      "cell_type": "code",
      "source": [
        "#  Using For loop to iterate a string\n",
        "\n",
        "Str = 'Hello Aman'\n",
        "\n",
        "# iterating through 'str' string\n",
        "\n",
        "for letter in Str:\n",
        "    print(letter)"
      ],
      "metadata": {
        "colab": {
          "base_uri": "https://localhost:8080/"
        },
        "id": "l0AzFmwHCQ6e",
        "outputId": "bfa126fd-e6fe-430e-cd13-916b8058ab07"
      },
      "execution_count": null,
      "outputs": [
        {
          "output_type": "stream",
          "name": "stdout",
          "text": [
            "H\n",
            "e\n",
            "l\n",
            "l\n",
            "o\n",
            " \n",
            "A\n",
            "m\n",
            "a\n",
            "n\n"
          ]
        }
      ]
    },
    {
      "cell_type": "code",
      "source": [
        "# python string length\n",
        "\n",
        "Str = 'Hello'\n",
        "\n",
        "# count length of Str string\n",
        "\n",
        "print(len(Str))\n"
      ],
      "metadata": {
        "colab": {
          "base_uri": "https://localhost:8080/"
        },
        "id": "yvWZ8W93DW3V",
        "outputId": "d9df1b80-43f5-42fd-a9ef-42702df8c9f5"
      },
      "execution_count": null,
      "outputs": [
        {
          "output_type": "stream",
          "name": "stdout",
          "text": [
            "5\n"
          ]
        }
      ]
    },
    {
      "cell_type": "code",
      "source": [
        "# finding a character in a string\n",
        "\n",
        "print('a' in 'program')\n",
        "print('at' not in 'battle')"
      ],
      "metadata": {
        "colab": {
          "base_uri": "https://localhost:8080/"
        },
        "id": "A1DTqWhaDpPu",
        "outputId": "c87147e5-5381-4378-dffb-86362f407742"
      },
      "execution_count": null,
      "outputs": [
        {
          "output_type": "stream",
          "name": "stdout",
          "text": [
            "True\n",
            "False\n"
          ]
        }
      ]
    },
    {
      "cell_type": "code",
      "source": [
        "# Python String Formatting (f-Strings)\n",
        "\n",
        "name = 'Manu'\n",
        "country = 'Khalistan'\n",
        "\n",
        "print(f'{name} is from {country}')"
      ],
      "metadata": {
        "colab": {
          "base_uri": "https://localhost:8080/"
        },
        "id": "sJrWNfh0ENQ6",
        "outputId": "a157a363-cf0d-49f3-c7e6-0afaf8e88374"
      },
      "execution_count": null,
      "outputs": [
        {
          "output_type": "stream",
          "name": "stdout",
          "text": [
            "Manu is from Khalistan\n"
          ]
        }
      ]
    },
    {
      "cell_type": "markdown",
      "source": [
        "LIST\n"
      ],
      "metadata": {
        "id": "GUI6PVPLmtey"
      }
    },
    {
      "cell_type": "code",
      "source": [
        "#LIST\n",
        "\n",
        "# List with strings, integers and boolean values\n",
        "\n",
        "list1 = [\"abc\", 12, True, 34, \"male\"]\n",
        "\n"
      ],
      "metadata": {
        "id": "iP-4ShQPmhss"
      },
      "execution_count": 4,
      "outputs": []
    },
    {
      "cell_type": "code",
      "source": [
        "# List with duplicates\n",
        "\n",
        "List3 = [\"AMAN\", \"MANU\", \"AMRITANSHU\",\"AMAN\", \"MANU\", \"AMRITANSHU\"]\n",
        "print(len(List3))"
      ],
      "metadata": {
        "colab": {
          "base_uri": "https://localhost:8080/"
        },
        "id": "_-l4Khu2mpzc",
        "outputId": "88b8aff4-d94c-446a-e119-fd2d5a342c1d"
      },
      "execution_count": 5,
      "outputs": [
        {
          "output_type": "stream",
          "name": "stdout",
          "text": [
            "6\n"
          ]
        }
      ]
    },
    {
      "cell_type": "code",
      "source": [
        "List2 = [\"AMAN\", \"MANU\", \"AMRITANSHU\",\"AMAN\", \"MANU\", \"AMRITANSHU\"]\n",
        "print(List2)"
      ],
      "metadata": {
        "colab": {
          "base_uri": "https://localhost:8080/"
        },
        "id": "ySJUoxKDmqOg",
        "outputId": "5970bee0-9e72-4bd8-9b1e-c733c05aec6d"
      },
      "execution_count": 6,
      "outputs": [
        {
          "output_type": "stream",
          "name": "stdout",
          "text": [
            "['AMAN', 'MANU', 'AMRITANSHU', 'AMAN', 'MANU', 'AMRITANSHU']\n"
          ]
        }
      ]
    },
    {
      "cell_type": "code",
      "source": [
        "list1 = [\"AMAN\", \"MANU\", \"AMRITANSHU\"]\n",
        "print(list1)"
      ],
      "metadata": {
        "colab": {
          "base_uri": "https://localhost:8080/"
        },
        "id": "oo0sVJSvm2WF",
        "outputId": "dd692585-fc6d-471b-86bd-26fe094fb63a"
      },
      "execution_count": 7,
      "outputs": [
        {
          "output_type": "stream",
          "name": "stdout",
          "text": [
            "['AMAN', 'MANU', 'AMRITANSHU']\n"
          ]
        }
      ]
    },
    {
      "cell_type": "markdown",
      "source": [
        "SETS"
      ],
      "metadata": {
        "id": "adRY2N4gm70t"
      }
    },
    {
      "cell_type": "code",
      "source": [
        "Sset = {\"APPY\", \"COKE\", \"PEPSI\"}\n",
        "print(Sset)"
      ],
      "metadata": {
        "colab": {
          "base_uri": "https://localhost:8080/"
        },
        "id": "__1W2Bxwm4oT",
        "outputId": "a51fbe17-5f97-4934-f160-6ae86944ebfc"
      },
      "execution_count": 8,
      "outputs": [
        {
          "output_type": "stream",
          "name": "stdout",
          "text": [
            "{'APPY', 'PEPSI', 'COKE'}\n"
          ]
        }
      ]
    },
    {
      "cell_type": "code",
      "source": [
        "Sset = {\"APPY\", \"COKE\", \"PEPSI\", True, 1, 2}\n",
        "\n",
        "print(Sset)"
      ],
      "metadata": {
        "colab": {
          "base_uri": "https://localhost:8080/"
        },
        "id": "K_rq65Dhm96C",
        "outputId": "891afdfe-633c-4de5-b53e-d673345f2c82"
      },
      "execution_count": 9,
      "outputs": [
        {
          "output_type": "stream",
          "name": "stdout",
          "text": [
            "{'APPY', True, 2, 'COKE', 'PEPSI'}\n"
          ]
        }
      ]
    },
    {
      "cell_type": "code",
      "source": [],
      "metadata": {
        "id": "GKqWqfMsm_3j"
      },
      "execution_count": null,
      "outputs": []
    }
  ]
}