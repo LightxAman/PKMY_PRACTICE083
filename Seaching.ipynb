{
  "nbformat": 4,
  "nbformat_minor": 0,
  "metadata": {
    "colab": {
      "provenance": [],
      "authorship_tag": "ABX9TyN2bnzo682E+PZF8FleolrS",
      "include_colab_link": true
    },
    "kernelspec": {
      "name": "python3",
      "display_name": "Python 3"
    },
    "language_info": {
      "name": "python"
    }
  },
  "cells": [
    {
      "cell_type": "markdown",
      "metadata": {
        "id": "view-in-github",
        "colab_type": "text"
      },
      "source": [
        "<a href=\"https://colab.research.google.com/github/LightxAman/PKMY_PRACTICE083/blob/main/Seaching.ipynb\" target=\"_parent\"><img src=\"https://colab.research.google.com/assets/colab-badge.svg\" alt=\"Open In Colab\"/></a>"
      ]
    },
    {
      "cell_type": "markdown",
      "source": [
        "Algo for Linear searching\n",
        "\n",
        "Start from the leftmost element of given arr[] and one by one compare element x with each element of arr[]\n",
        "If x matches with any of the element, return the index value."
      ],
      "metadata": {
        "id": "TJ2wOVu4bsBR"
      }
    },
    {
      "cell_type": "code",
      "execution_count": 1,
      "metadata": {
        "colab": {
          "base_uri": "https://localhost:8080/"
        },
        "id": "XLGtv1L_avkn",
        "outputId": "82366aee-b479-48e2-a0ef-e8ec048603e5"
      },
      "outputs": [
        {
          "output_type": "stream",
          "name": "stdout",
          "text": [
            "element found at index 0\n"
          ]
        }
      ],
      "source": [
        "#Linear Search\n",
        "\n",
        "def linearsearch(arr, x):\n",
        "   for i in range(len(arr)):\n",
        "      if arr[i] == x:\n",
        "         return i\n",
        "   return -1\n",
        "arr = ['a','e','i','o','u','h']\n",
        "x = 'a'\n",
        "print(\"element found at index \"+str(linearsearch(arr,x)))"
      ]
    },
    {
      "cell_type": "markdown",
      "source": [
        "BINARY SEARCHING ALGO\n",
        "\n",
        "I) Iteration Method\n",
        "\n",
        "do until the pointers low and high meet each other.\n",
        "    mid = (low + high)/2\n",
        "    if (x == arr[mid])\n",
        "        return mid\n",
        "    else if (x > arr[mid]) // x is on the right side\n",
        "        low = mid + 1\n",
        "    else                       // x is on the left side\n",
        "        high = mid - 1"
      ],
      "metadata": {
        "id": "fi43xwiwdEpG"
      }
    },
    {
      "cell_type": "code",
      "source": [
        "# Binary Search in python ITERATIVE\n",
        "\n",
        "\n",
        "def binarySearch(array, x, low, high):\n",
        "\n",
        "    # Repeat until the pointers low and high meet each other\n",
        "    while low <= high:\n",
        "\n",
        "        mid = low + (high - low)//2\n",
        "\n",
        "        if array[mid] == x:\n",
        "            return mid\n",
        "\n",
        "        elif array[mid] < x:\n",
        "            low = mid + 1\n",
        "\n",
        "        else:\n",
        "            high = mid - 1\n",
        "\n",
        "    return -1\n",
        "\n",
        "\n",
        "array = [3, 4, 5, 6, 7, 8, 9]\n",
        "x = 4\n",
        "\n",
        "result = binarySearch(array, x, 0, len(array)-1)\n",
        "\n",
        "if result != -1:\n",
        "    print(\"Element is present at index \" + str(result))\n",
        "else:\n",
        "    print(\"Not found\")"
      ],
      "metadata": {
        "colab": {
          "base_uri": "https://localhost:8080/"
        },
        "id": "8_iGtR6obZ1U",
        "outputId": "b5f9b0ec-0ee8-4d51-9fef-995240efdecb"
      },
      "execution_count": 3,
      "outputs": [
        {
          "output_type": "stream",
          "name": "stdout",
          "text": [
            "Element is present at index 1\n"
          ]
        }
      ]
    },
    {
      "cell_type": "markdown",
      "source": [
        "II)** Recursive Method**\n",
        "binarySearch(arr, x, low, high)\n",
        "    if low > high\n",
        "        return False\n",
        "    else\n",
        "        mid = (low + high) / 2\n",
        "        if x == arr[mid]\n",
        "            return mid\n",
        "        else if x > arr[mid]        // x is on the right side\n",
        "            return binarySearch(arr, x, mid + 1, high)\n",
        "        else                               // x is on the left side\n",
        "            return binarySearch(arr, x, low, mid - 1)"
      ],
      "metadata": {
        "id": "LGkVcOgWd66L"
      }
    },
    {
      "cell_type": "code",
      "source": [
        "# Binary Search in python RECURSIVE\n",
        "\n",
        "\n",
        "def binarySearch(array, x, low, high):\n",
        "\n",
        "    if high >= low:\n",
        "\n",
        "        mid = low + (high - low)//2\n",
        "\n",
        "        # If found at mid, then return it\n",
        "        if array[mid] == x:\n",
        "            return mid\n",
        "\n",
        "        # Search the left half\n",
        "        elif array[mid] > x:\n",
        "            return binarySearch(array, x, low, mid-1)\n",
        "\n",
        "        # Search the right half\n",
        "        else:\n",
        "            return binarySearch(array, x, mid + 1, high)\n",
        "\n",
        "    else:\n",
        "        return -1\n",
        "\n",
        "\n",
        "array = [3, 4, 5, 6, 7, 8, 9]\n",
        "x = 4\n",
        "\n",
        "result = binarySearch(array, x, 0, len(array)-1)\n",
        "\n",
        "if result != -1:\n",
        "    print(\"Element is present at index \" + str(result))\n",
        "else:\n",
        "    print(\"Not found\")"
      ],
      "metadata": {
        "colab": {
          "base_uri": "https://localhost:8080/"
        },
        "id": "0Ilp9nzyd4C9",
        "outputId": "cd3884c5-8af5-4a48-a4c9-8bb4c9cae197"
      },
      "execution_count": 4,
      "outputs": [
        {
          "output_type": "stream",
          "name": "stdout",
          "text": [
            "Element is present at index 1\n"
          ]
        }
      ]
    },
    {
      "cell_type": "code",
      "source": [],
      "metadata": {
        "id": "zJ2syd3eeghc"
      },
      "execution_count": null,
      "outputs": []
    }
  ]
}